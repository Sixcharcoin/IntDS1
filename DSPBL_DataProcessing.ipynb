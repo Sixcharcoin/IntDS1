{
  "nbformat": 4,
  "nbformat_minor": 0,
  "metadata": {
    "colab": {
      "provenance": [],
      "authorship_tag": "ABX9TyPGurU2lU9t9lycttxSkAs3",
      "include_colab_link": true
    },
    "kernelspec": {
      "name": "python3",
      "display_name": "Python 3"
    },
    "language_info": {
      "name": "python"
    }
  },
  "cells": [
    {
      "cell_type": "markdown",
      "metadata": {
        "id": "view-in-github",
        "colab_type": "text"
      },
      "source": [
        "<a href=\"https://colab.research.google.com/github/Sixcharcoin/IntDS1/blob/main/DSPBL_DataProcessing.ipynb\" target=\"_parent\"><img src=\"https://colab.research.google.com/assets/colab-badge.svg\" alt=\"Open In Colab\"/></a>"
      ]
    },
    {
      "cell_type": "code",
      "execution_count": null,
      "metadata": {
        "colab": {
          "base_uri": "https://localhost:8080/"
        },
        "id": "7H0HENXozJ7Y",
        "outputId": "1414c9de-2297-4771-eff6-c053230d6ef8"
      },
      "outputs": [
        {
          "output_type": "stream",
          "name": "stdout",
          "text": [
            "読み込み直後の行数: 245\n",
            "空白行削除後の行数: 170\n",
            "\n",
            "処理が完了しました。結果は 'DSPBL1_cleaned.csv' に保存されました。\n"
          ]
        }
      ],
      "source": [
        "import pandas as pd\n",
        "import pandas as pd\n",
        "input_csv_file = '/IDSPBL1 - table1.csv'\n",
        "output_csv_file = 'DSPBL1_cleaned.csv'\n",
        "\n",
        "try:\n",
        "   # keep_default_na=True と na_values で様々な形式の空白をNaN (Not a Number)として扱います。\n",
        "    df = pd.read_csv(\n",
        "        input_csv_file,\n",
        "        header=0,\n",
        "        keep_default_na=True,\n",
        "        na_values=['', ' ', 'nan', 'NaN', 'NA', 'NULL']\n",
        "    )\n",
        "\n",
        "    print(f\"読み込み直後の行数: {len(df)}\")\n",
        "    # 全ての列の値がNaN（実質的に空白）である行を削除します。\n",
        "    df_cleaned = df.dropna(how='all')\n",
        "\n",
        "    # インデックスをリセット\n",
        "    df_cleaned = df_cleaned.reset_index(drop=True)\n",
        "\n",
        "    print(f\"空白行削除後の行数: {len(df_cleaned)}\")\n",
        "\n",
        "    # 処理後のデータを新しいCSVファイルとして保存します。\n",
        "    # index=False はDataFrameのインデックスをCSVに出力しないための指定です。\n",
        "    # encoding='utf-8-sig' はExcelで日本語が文字化けするのを防ぐためです。\n",
        "    df_cleaned.to_csv(output_csv_file, index=False, encoding='utf-8-sig')\n",
        "\n",
        "    print(f\"\\n処理が完了しました。結果は '{output_csv_file}' に保存されました。\")\n",
        "\n",
        "except FileNotFoundError:\n",
        "    print(f\"エラー: ファイル '{input_csv_file}' が見つかりません。ファイル名とパスを確認してください。\")\n",
        "except pd.errors.EmptyDataError:\n",
        "    print(f\"エラー: ファイル '{input_csv_file}' は空です。\")\n",
        "except Exception as e:\n",
        "    print(f\"エラーが発生しました: {e}\")"
      ]
    },
    {
      "cell_type": "code",
      "source": [
        "input_file = '/content/DSPBL1_2.csv'\n",
        "df = pd.read_csv(input_file)\n",
        "print(\"Original columns\", df.columns)"
      ],
      "metadata": {
        "id": "AEzAMejfzxZm",
        "colab": {
          "base_uri": "https://localhost:8080/"
        },
        "outputId": "abd33a73-fd86-4ec8-9fd0-15048f019d92"
      },
      "execution_count": null,
      "outputs": [
        {
          "output_type": "stream",
          "name": "stdout",
          "text": [
            "Original columns Index(['Cause_Major_Category', 'Cause_Sub_Category', 'Sex', '~19', '20~29',\n",
            "       '30~39', '40~49', '50~59', '60~69', '70~79', '80~'],\n",
            "      dtype='object')\n"
          ]
        }
      ]
    },
    {
      "cell_type": "code",
      "source": [
        "df['Cause_Major_Category'].fillna(method='ffill')\n",
        "print(df.head(20))"
      ],
      "metadata": {
        "colab": {
          "base_uri": "https://localhost:8080/"
        },
        "collapsed": true,
        "id": "GdaNf3ygGYNY",
        "outputId": "a13b94f3-b23c-47a9-893a-917ee4aa0670"
      },
      "execution_count": null,
      "outputs": [
        {
          "output_type": "stream",
          "name": "stdout",
          "text": [
            "   Cause_Major_Category                         Cause_Sub_Category Sex   ~19  \\\n",
            "0       Household Issue                                marriage DV   男   0.0   \n",
            "1                   NaN                                        NaN   女   0.0   \n",
            "2                   NaN                                   Cheating   男   0.0   \n",
            "3                   NaN                                        NaN   女   0.0   \n",
            "4                   NaN                      Other marriage issues   男   0.0   \n",
            "5                   NaN                                        NaN   女   0.0   \n",
            "6                   NaN                         parent-child issue   男  24.0   \n",
            "7                   NaN                                        NaN   女  30.0   \n",
            "8                   NaN                         other family issue   男   8.0   \n",
            "9                   NaN                                        NaN   女  11.0   \n",
            "10                  NaN                     death of family member   男   2.0   \n",
            "11                  NaN                                        NaN   女   0.0   \n",
            "12                  NaN                 pessimistic view on family   男   2.0   \n",
            "13                  NaN                                        NaN   女   4.0   \n",
            "14                  NaN                           Tired of nursing   男   0.0   \n",
            "15                  NaN                                        NaN   女   0.0   \n",
            "16                  NaN                          parenting turmoil   男   0.0   \n",
            "17                  NaN                                        NaN   女   0.0   \n",
            "18                  NaN  reproach and strict parenting from family   男  26.0   \n",
            "19                  NaN                                        NaN   女  16.0   \n",
            "\n",
            "    20~29  30~39  40~49  50~59  60~69  70~79   80~  \n",
            "0     0.0   14.0   26.0   20.0    9.0    8.0   5.0  \n",
            "1     1.0    2.0    4.0    1.0    4.0    3.0   2.0  \n",
            "2     7.0   41.0   40.0   16.0   10.0    6.0   1.0  \n",
            "3     9.0   21.0   13.0   12.0    7.0    4.0   3.0  \n",
            "4    32.0  126.0  146.0  104.0   65.0   55.0  35.0  \n",
            "5    21.0   33.0   39.0   55.0   23.0   17.0  12.0  \n",
            "6    47.0   42.0   68.0   47.0   28.0   20.0  31.0  \n",
            "7    39.0   23.0   29.0   55.0   17.0   22.0  40.0  \n",
            "8    21.0   32.0   62.0   64.0   39.0   31.0  17.0  \n",
            "9    18.0   18.0   25.0   29.0   18.0   19.0  21.0  \n",
            "10   12.0   22.0   40.0   83.0   56.0   52.0  88.0  \n",
            "11   11.0   13.0   25.0   57.0   49.0   63.0  65.0  \n",
            "12   14.0   35.0   59.0   85.0   44.0   49.0  51.0  \n",
            "13   16.0   18.0   33.0   46.0   32.0   34.0  32.0  \n",
            "14    2.0    7.0   16.0   58.0   47.0   32.0  49.0  \n",
            "15    1.0    2.0   13.0   44.0   22.0   26.0  20.0  \n",
            "16    2.0   12.0   17.0    4.0    2.0    0.0   1.0  \n",
            "17   16.0   37.0   57.0   16.0    6.0    0.0   0.0  \n",
            "18   13.0   18.0   18.0    9.0   12.0    7.0  18.0  \n",
            "19    5.0    4.0    5.0    4.0    4.0    5.0   8.0  \n"
          ]
        },
        {
          "output_type": "stream",
          "name": "stderr",
          "text": [
            "<ipython-input-4-11bce6be8340>:1: FutureWarning: Series.fillna with 'method' is deprecated and will raise in a future version. Use obj.ffill() or obj.bfill() instead.\n",
            "  df['Cause_Major_Category'].fillna(method='ffill')\n"
          ]
        }
      ]
    },
    {
      "cell_type": "code",
      "source": [
        "if 'Cause_Major_Category' in df.columns:\n",
        "    df['Cause_Major_Category'] = df['Cause_Major_Category'].fillna(method='ffill')\n",
        "else:\n",
        "    print(\"エラー: 'Cause_Major_Category' 列が見つかりません。列名を確認してください。\")\n",
        "\n",
        "# 'Cause_Sub_Category' 列も同様にNaNを上の行の値で埋める\n",
        "# (男の行の小分類を、その下の女の行にも適用する)\n",
        "if 'Cause_Sub_Category' in df.columns:\n",
        "    df['Cause_Sub_Category'] = df['Cause_Sub_Category'].fillna(method='ffill')\n",
        "else:\n",
        "    print(\"エラー: 'Cause_Sub_Category' 列が見つかりません。列名を確認してください。\")\n",
        "\n",
        "\n",
        "print(\"After ffill for Major and Sub Categories:\")\n",
        "print(df[['Cause_Major_Category', 'Cause_Sub_Category', 'Sex']].head(20))\n",
        "\n",
        "# --- ステップ3: 原因分類列のクリーンナップ (改行除去など) ---\n",
        "for col in ['Cause_Major_Category', 'Cause_Sub_Category']:\n",
        "    if col in df.columns:\n",
        "        df[col] = df[col].astype(str).str.replace('\\n', ' ', regex=False).str.strip()"
      ],
      "metadata": {
        "colab": {
          "base_uri": "https://localhost:8080/"
        },
        "collapsed": true,
        "id": "hZ0dJJ8UHz54",
        "outputId": "c628727a-883a-4a13-8dcb-12aefffc94d5"
      },
      "execution_count": null,
      "outputs": [
        {
          "output_type": "stream",
          "name": "stdout",
          "text": [
            "After ffill for Major and Sub Categories:\n",
            "   Cause_Major_Category                         Cause_Sub_Category Sex\n",
            "0       Household Issue                                marriage DV   男\n",
            "1       Household Issue                                marriage DV   女\n",
            "2       Household Issue                                   Cheating   男\n",
            "3       Household Issue                                   Cheating   女\n",
            "4       Household Issue                      Other marriage issues   男\n",
            "5       Household Issue                      Other marriage issues   女\n",
            "6       Household Issue                         parent-child issue   男\n",
            "7       Household Issue                         parent-child issue   女\n",
            "8       Household Issue                         other family issue   男\n",
            "9       Household Issue                         other family issue   女\n",
            "10      Household Issue                     death of family member   男\n",
            "11      Household Issue                     death of family member   女\n",
            "12      Household Issue                 pessimistic view on family   男\n",
            "13      Household Issue                 pessimistic view on family   女\n",
            "14      Household Issue                           Tired of nursing   男\n",
            "15      Household Issue                           Tired of nursing   女\n",
            "16      Household Issue                          parenting turmoil   男\n",
            "17      Household Issue                          parenting turmoil   女\n",
            "18      Household Issue  reproach and strict parenting from family   男\n",
            "19      Household Issue  reproach and strict parenting from family   女\n"
          ]
        },
        {
          "output_type": "stream",
          "name": "stderr",
          "text": [
            "<ipython-input-5-7b55df9ca0a4>:2: FutureWarning: Series.fillna with 'method' is deprecated and will raise in a future version. Use obj.ffill() or obj.bfill() instead.\n",
            "  df['Cause_Major_Category'] = df['Cause_Major_Category'].fillna(method='ffill')\n",
            "<ipython-input-5-7b55df9ca0a4>:10: FutureWarning: Series.fillna with 'method' is deprecated and will raise in a future version. Use obj.ffill() or obj.bfill() instead.\n",
            "  df['Cause_Sub_Category'] = df['Cause_Sub_Category'].fillna(method='ffill')\n"
          ]
        }
      ]
    },
    {
      "cell_type": "code",
      "source": [
        "output_csv = 'DSPBL1_3.csv'\n",
        "df.to_csv(output_csv, index=False)"
      ],
      "metadata": {
        "id": "0Z2ji-S2H3zo"
      },
      "execution_count": null,
      "outputs": []
    },
    {
      "cell_type": "code",
      "source": [
        "#Visualisation\n",
        "Tentative = '/content/DSPBL1_3.csv'\n",
        "pd.set_option('display.max_rows', None)\n",
        "pd.set_option('display.max_columns', None)\n",
        "\n",
        "# Read the CSV file into a DataFrame\n",
        "df = pd.read_csv(Tentative)\n",
        "# 2行目から29行目のデータを抽出（インデックスは0から始まるため、1から28を指定）\n",
        "df_selected = df.iloc[1:29].copy()\n",
        "\n",
        "# グラフ描画のためにデータをmelt（縦持ち）形式に変換\n",
        "df_melted = df_selected.melt(\n",
        "    id_vars=['Cause_Major_Category', 'Cause_Sub_Category', 'Sex'],\n",
        "    value_vars=['~19', '20~29', '30~39', '40~49', '50~59', '60~69', '70~79', '80~'],\n",
        "    var_name='Age',\n",
        "    value_name='Number'\n",
        ")\n",
        "# 複数の線を区別するための識別子を作成\n",
        "df_melted['Line_Identifier'] = df_melted['Cause_Major_Category'] + ' - ' + df_melted['Cause_Sub_Category'] + ' - ' + df_melted['Sex'].astype(str)\n",
        "\n",
        "import plotly.express as px\n",
        "\n",
        "# 線グラフを描画\n",
        "fig = px.line(\n",
        "    df_melted,\n",
        "    x='Age',\n",
        "    y='Number',\n",
        "    color='Line_Identifier',\n",
        "    title='年齢別人数推移'\n",
        ")\n",
        "fig.write_json('age_vs_number_lines.json')"
      ],
      "metadata": {
        "id": "ZKvo5g5zLKb7"
      },
      "execution_count": null,
      "outputs": []
    },
    {
      "cell_type": "code",
      "source": [
        "input_csv_file = '/content/DSPBL1_3_2.csv'\n",
        "df = pd.read_csv(input_csv_file)"
      ],
      "metadata": {
        "id": "CZDtMBLh8kYQ"
      },
      "execution_count": null,
      "outputs": []
    },
    {
      "cell_type": "code",
      "source": [
        "# --- ステップ5: 年齢層のピボット (Melt) ---\n",
        "print(\"\\n--- Step 5: Melting Age Group Columns ---\")\n",
        "\n",
        "# meltでidとして固定する列\n",
        "id_vars_list = ['Cause_Major_Category', 'Cause_Sub_Category', 'Sex']\n",
        "\n",
        "# meltの対象となる値の列 (年齢層の列)\n",
        "# 元のCSVのヘッダーから、id_vars_listに含まれない列を自動的に選択\n",
        "# (例: '~19', '20~29', ..., '80~')\n",
        "value_vars_list = [col for col in df.columns if col not in id_vars_list]\n",
        "\n",
        "print(\"Columns to be used as id_vars:\", id_vars_list)\n",
        "print(\"Columns to be melted (value_vars):\", value_vars_list)\n",
        "\n",
        "if not all(col in df.columns for col in id_vars_list):\n",
        "    print(\"Error: One or more id_vars columns are missing from the DataFrame.\")\n",
        "    # ここで処理を中断するか、エラー処理をする\n",
        "else:\n",
        "    df_melted = df.melt(\n",
        "        id_vars=id_vars_list,\n",
        "        value_vars=value_vars_list,\n",
        "        var_name='Age_Group',      # 新しくできる年齢層のカテゴリ列名\n",
        "        value_name='Suicide_Count' # 新しくできる自殺者数の値の列名\n",
        "    )\n",
        "\n",
        "    print(f\"Melted data shape: {df_melted.shape}\")\n",
        "    print(\"Head of melted data:\")\n",
        "    print(df_melted.head(10)) # 最初の10行を表示して確認"
      ],
      "metadata": {
        "colab": {
          "base_uri": "https://localhost:8080/"
        },
        "collapsed": true,
        "id": "hJsfKHiu_PS6",
        "outputId": "9786feb5-4163-496f-863e-1c97bbb1e74b"
      },
      "execution_count": null,
      "outputs": [
        {
          "output_type": "stream",
          "name": "stdout",
          "text": [
            "\n",
            "--- Step 5: Melting Age Group Columns ---\n",
            "Columns to be used as id_vars: ['Cause_Major_Category', 'Cause_Sub_Category', 'Sex']\n",
            "Columns to be melted (value_vars): ['~19', '20~29', '30~39', '40~49', '50~59', '60~69', '70~79', '80~']\n",
            "Melted data shape: (1120, 5)\n",
            "Head of melted data:\n",
            "  Cause_Major_Category     Cause_Sub_Category Sex Age_Group  Suicide_Count\n",
            "0      Household Issue            marriage DV   男       ~19            0.0\n",
            "1      Household Issue            marriage DV   女       ~19            0.0\n",
            "2      Household Issue               Cheating   男       ~19            0.0\n",
            "3      Household Issue               Cheating   女       ~19            0.0\n",
            "4      Household Issue  Other marriage issues   男       ~19            0.0\n",
            "5      Household Issue  Other marriage issues   女       ~19            0.0\n",
            "6      Household Issue     parent-child issue   男       ~19           24.0\n",
            "7      Household Issue     parent-child issue   女       ~19           30.0\n",
            "8      Household Issue     other family issue   男       ~19            8.0\n",
            "9      Household Issue     other family issue   女       ~19           11.0\n"
          ]
        }
      ]
    },
    {
      "cell_type": "code",
      "source": [
        "# --- ステップ6: データ型の変換 (Suicide_Count) ---\n",
        "print(\"\\n--- Step 6: Converting Suicide_Count to Numeric ---\")\n",
        "\n",
        "if 'Suicide_Count' in df_melted.columns:\n",
        "    # カンマが含まれている可能性があるので除去 (文字列として処理)\n",
        "    df_melted['Suicide_Count'] = df_melted['Suicide_Count'].astype(str).str.replace(',', '', regex=False)\n",
        "\n",
        "    # 数値に変換。変換できない値はNaNにする (errors='coerce')\n",
        "    df_melted['Suicide_Count'] = pd.to_numeric(df_melted['Suicide_Count'], errors='coerce')\n",
        "\n",
        "    # NaNが発生した場合の処理 (ここでは0で埋める例)\n",
        "    nan_count_before = df_melted['Suicide_Count'].isnull().sum()\n",
        "    if nan_count_before > 0:\n",
        "        print(f\"NaNs found in Suicide_Count before fill: {nan_count_before}\")\n",
        "        df_melted['Suicide_Count'].fillna(0, inplace=True)\n",
        "        print(f\"NaNs filled with 0.\")\n",
        "\n",
        "    # 整数型に変換 (小数点以下が不要な場合)\n",
        "    df_melted['Suicide_Count'] = df_melted['Suicide_Count'].astype(int)\n",
        "\n",
        "    print(\"Info of melted data after type conversion:\")\n",
        "    df_melted.info()\n",
        "    print(\"Head of melted data after type conversion:\")\n",
        "    print(df_melted.head())\n",
        "else:\n",
        "    print(\"Error: 'Suicide_Count' column not found in df_melted.\")"
      ],
      "metadata": {
        "colab": {
          "base_uri": "https://localhost:8080/"
        },
        "collapsed": true,
        "id": "_IBnT6a9_YeA",
        "outputId": "299d9bcb-e530-461d-e2e5-235e4bc2051e"
      },
      "execution_count": null,
      "outputs": [
        {
          "output_type": "stream",
          "name": "stdout",
          "text": [
            "\n",
            "--- Step 6: Converting Suicide_Count to Numeric ---\n",
            "NaNs found in Suicide_Count before fill: 48\n",
            "NaNs filled with 0.\n",
            "Info of melted data after type conversion:\n",
            "<class 'pandas.core.frame.DataFrame'>\n",
            "RangeIndex: 1120 entries, 0 to 1119\n",
            "Data columns (total 5 columns):\n",
            " #   Column                Non-Null Count  Dtype \n",
            "---  ------                --------------  ----- \n",
            " 0   Cause_Major_Category  1120 non-null   object\n",
            " 1   Cause_Sub_Category    1120 non-null   object\n",
            " 2   Sex                   1072 non-null   object\n",
            " 3   Age_Group             1120 non-null   object\n",
            " 4   Suicide_Count         1120 non-null   int64 \n",
            "dtypes: int64(1), object(4)\n",
            "memory usage: 43.9+ KB\n",
            "Head of melted data after type conversion:\n",
            "  Cause_Major_Category     Cause_Sub_Category Sex Age_Group  Suicide_Count\n",
            "0      Household Issue            marriage DV   男       ~19              0\n",
            "1      Household Issue            marriage DV   女       ~19              0\n",
            "2      Household Issue               Cheating   男       ~19              0\n",
            "3      Household Issue               Cheating   女       ~19              0\n",
            "4      Household Issue  Other marriage issues   男       ~19              0\n"
          ]
        },
        {
          "output_type": "stream",
          "name": "stderr",
          "text": [
            "<ipython-input-6-5ba2e04b2962>:17: FutureWarning: A value is trying to be set on a copy of a DataFrame or Series through chained assignment using an inplace method.\n",
            "The behavior will change in pandas 3.0. This inplace method will never work because the intermediate object on which we are setting values always behaves as a copy.\n",
            "\n",
            "For example, when doing 'df[col].method(value, inplace=True)', try using 'df.method({col: value}, inplace=True)' or df[col] = df[col].method(value) instead, to perform the operation inplace on the original object.\n",
            "\n",
            "\n",
            "  df_melted['Suicide_Count'].fillna(0, inplace=True)\n"
          ]
        }
      ]
    },
    {
      "cell_type": "code",
      "source": [
        "print(\"\\nFinal Review and Column Ordering\")\n",
        "\n",
        "# 意図しない NaN が残っていないか確認\n",
        "print(\"NaN counts in final melted data:\")\n",
        "print(df_melted.isnull().sum())\n",
        "\n",
        "final_columns_order = ['Cause_Major_Category', 'Cause_Sub_Category', 'Sex', 'Age_Group', 'Suicide_Count']\n",
        "# df_melted に存在する列のみで順序を再構成\n",
        "actual_final_columns = [col for col in final_columns_order if col in df_melted.columns]\n",
        "df_final = df_melted[actual_final_columns]\n",
        "\n",
        "print(\"Final data head after reordering:\")\n",
        "print(df_final.head(10))\n",
        "print(\"\\nFinal data info:\")\n",
        "df_final.info()\n",
        "\n",
        "# 結果を新しいCSVファイルとして保存\n",
        "output_file_transformed = 'IDSPBL1_transformed.csv' # 出力ファイル名\n",
        "df_final.to_csv(output_file_transformed, index=False, encoding='utf-8-sig')\n",
        "print(f\"\\nProcessed data saved to '{output_file_transformed}'\")"
      ],
      "metadata": {
        "colab": {
          "base_uri": "https://localhost:8080/"
        },
        "collapsed": true,
        "id": "uZXmJ5Gz_j-V",
        "outputId": "26418c26-74d3-4020-90e2-efba8be523ab"
      },
      "execution_count": null,
      "outputs": [
        {
          "output_type": "stream",
          "name": "stdout",
          "text": [
            "\n",
            "--- Step 7: Final Review and Column Ordering ---\n",
            "NaN counts in final melted data:\n",
            "Cause_Major_Category     0\n",
            "Cause_Sub_Category       0\n",
            "Sex                     48\n",
            "Age_Group                0\n",
            "Suicide_Count            0\n",
            "dtype: int64\n",
            "Final data head after reordering:\n",
            "  Cause_Major_Category     Cause_Sub_Category Sex Age_Group  Suicide_Count\n",
            "0      Household Issue            marriage DV   男       ~19              0\n",
            "1      Household Issue            marriage DV   女       ~19              0\n",
            "2      Household Issue               Cheating   男       ~19              0\n",
            "3      Household Issue               Cheating   女       ~19              0\n",
            "4      Household Issue  Other marriage issues   男       ~19              0\n",
            "5      Household Issue  Other marriage issues   女       ~19              0\n",
            "6      Household Issue     parent-child issue   男       ~19             24\n",
            "7      Household Issue     parent-child issue   女       ~19             30\n",
            "8      Household Issue     other family issue   男       ~19              8\n",
            "9      Household Issue     other family issue   女       ~19             11\n",
            "\n",
            "Final data info:\n",
            "<class 'pandas.core.frame.DataFrame'>\n",
            "RangeIndex: 1120 entries, 0 to 1119\n",
            "Data columns (total 5 columns):\n",
            " #   Column                Non-Null Count  Dtype \n",
            "---  ------                --------------  ----- \n",
            " 0   Cause_Major_Category  1120 non-null   object\n",
            " 1   Cause_Sub_Category    1120 non-null   object\n",
            " 2   Sex                   1072 non-null   object\n",
            " 3   Age_Group             1120 non-null   object\n",
            " 4   Suicide_Count         1120 non-null   int64 \n",
            "dtypes: int64(1), object(4)\n",
            "memory usage: 43.9+ KB\n",
            "\n",
            "Processed data saved to 'IDSPBL1_transformed.csv'\n"
          ]
        }
      ]
    },
    {
      "cell_type": "code",
      "source": [
        "inputdf = '/content/IDSPBL1_Transformed_Before.csv'\n",
        "df = pd.read_csv(inputdf)\n",
        "print(df.head(30))"
      ],
      "metadata": {
        "colab": {
          "base_uri": "https://localhost:8080/"
        },
        "collapsed": true,
        "id": "aLA2RxQ7Ftqi",
        "outputId": "c636c9da-dc14-45ae-f92a-b1c7519022d9"
      },
      "execution_count": null,
      "outputs": [
        {
          "output_type": "stream",
          "name": "stdout",
          "text": [
            "   Cause_Major_Category                         Cause_Sub_Category  Sex  \\\n",
            "0       Household Issue                                marriage DV    男   \n",
            "1       Household Issue                                marriage DV    女   \n",
            "2       Household Issue                                   Cheating    男   \n",
            "3       Household Issue                                   Cheating    女   \n",
            "4       Household Issue                      Other marriage issues    男   \n",
            "5       Household Issue                      Other marriage issues    女   \n",
            "6       Household Issue                         parent-child issue    男   \n",
            "7       Household Issue                         parent-child issue    女   \n",
            "8       Household Issue                         other family issue    男   \n",
            "9       Household Issue                         other family issue    女   \n",
            "10      Household Issue                     death of family member    男   \n",
            "11      Household Issue                     death of family member    女   \n",
            "12      Household Issue                 pessimistic view on family    男   \n",
            "13      Household Issue                 pessimistic view on family    女   \n",
            "14      Household Issue                           Tired of nursing    男   \n",
            "15      Household Issue                           Tired of nursing    女   \n",
            "16      Household Issue                          parenting turmoil    男   \n",
            "17      Household Issue                          parenting turmoil    女   \n",
            "18      Household Issue  reproach and strict parenting from family    男   \n",
            "19      Household Issue  reproach and strict parenting from family    女   \n",
            "20      Household Issue             Physical DV from family member    男   \n",
            "21      Household Issue             Physical DV from family member    女   \n",
            "22      Household Issue            Psychological abuse from family    男   \n",
            "23      Household Issue            Psychological abuse from family    女   \n",
            "24      Household Issue            Sexual Abuse from family member    男   \n",
            "25      Household Issue            Sexual Abuse from family member    女   \n",
            "26      Household Issue                        neglect from family    男   \n",
            "27      Household Issue                        neglect from family    女   \n",
            "28         Health Issue                        neglect from family  NaN   \n",
            "29         Health Issue                illness(malignant neoplasm)    男   \n",
            "\n",
            "   Age_Group  Suicide_Count  \n",
            "0        ~19              0  \n",
            "1        ~19              0  \n",
            "2        ~19              0  \n",
            "3        ~19              0  \n",
            "4        ~19              0  \n",
            "5        ~19              0  \n",
            "6        ~19             24  \n",
            "7        ~19             30  \n",
            "8        ~19              8  \n",
            "9        ~19             11  \n",
            "10       ~19              2  \n",
            "11       ~19              0  \n",
            "12       ~19              2  \n",
            "13       ~19              4  \n",
            "14       ~19              0  \n",
            "15       ~19              0  \n",
            "16       ~19              0  \n",
            "17       ~19              0  \n",
            "18       ~19             26  \n",
            "19       ~19             16  \n",
            "20       ~19              1  \n",
            "21       ~19              1  \n",
            "22       ~19              3  \n",
            "23       ~19              0  \n",
            "24       ~19              0  \n",
            "25       ~19              1  \n",
            "26       ~19              1  \n",
            "27       ~19              1  \n",
            "28       ~19              0  \n",
            "29       ~19              0  \n"
          ]
        }
      ]
    },
    {
      "cell_type": "code",
      "source": [
        "df.dropna(subset=['Sex'], how='any', inplace=True)"
      ],
      "metadata": {
        "id": "UQFkV5KNKKVr"
      },
      "execution_count": null,
      "outputs": []
    },
    {
      "cell_type": "code",
      "source": [
        "output_file = 'IDSPBL1_4_2.csv'\n",
        "df.to_csv(output_file, index=False, encoding='utf-8-sig')"
      ],
      "metadata": {
        "id": "H03X20eRLjVn"
      },
      "execution_count": null,
      "outputs": []
    },
    {
      "cell_type": "code",
      "source": [
        "df.info()\n",
        "#DFの要素数が列間で同一か確認"
      ],
      "metadata": {
        "colab": {
          "base_uri": "https://localhost:8080/"
        },
        "id": "jUL9BvkONCqK",
        "outputId": "19e1ce94-d602-4b0b-c614-4015beadab1b"
      },
      "execution_count": null,
      "outputs": [
        {
          "output_type": "stream",
          "name": "stdout",
          "text": [
            "<class 'pandas.core.frame.DataFrame'>\n",
            "Index: 1072 entries, 0 to 1119\n",
            "Data columns (total 5 columns):\n",
            " #   Column                Non-Null Count  Dtype \n",
            "---  ------                --------------  ----- \n",
            " 0   Cause_Major_Category  1072 non-null   object\n",
            " 1   Cause_Sub_Category    1072 non-null   object\n",
            " 2   Sex                   1072 non-null   object\n",
            " 3   Age_Group             1072 non-null   object\n",
            " 4   Suicide_Count         1072 non-null   int64 \n",
            "dtypes: int64(1), object(4)\n",
            "memory usage: 50.2+ KB\n"
          ]
        }
      ]
    }
  ]
}